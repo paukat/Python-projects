{
 "cells": [
  {
   "cell_type": "markdown",
   "id": "e1242d5f",
   "metadata": {},
   "source": [
    "# Top 100 movies on Netflix: Exploratory Data Analysis"
   ]
  },
  {
   "cell_type": "markdown",
   "id": "35b70469",
   "metadata": {},
   "source": [
    "## Load the data <a class=\"anchor\" id=\"loaddata\"></a>"
   ]
  },
  {
   "cell_type": "markdown",
   "id": "defc7c8a",
   "metadata": {},
   "source": [
    "Import required libraries."
   ]
  },
  {
   "cell_type": "code",
   "execution_count": 1,
   "id": "8c7b0eda",
   "metadata": {},
   "outputs": [],
   "source": [
    "import pandas as pd\n",
    "import seaborn as sns\n",
    "import matplotlib.pyplot as plt\n",
    "import re\n",
    "from collections import Counter\n",
    "from wordcloud import WordCloud"
   ]
  },
  {
   "cell_type": "markdown",
   "id": "1fe9993f",
   "metadata": {},
   "source": [
    "Import dataset that was taken from [Kaggle](https://www.kaggle.com/datasets/r1shabhgupta/best-movies-on-netflix)."
   ]
  },
  {
   "cell_type": "code",
   "execution_count": 2,
   "id": "0e231a01",
   "metadata": {},
   "outputs": [
    {
     "data": {
      "text/html": [
       "<div>\n",
       "<style scoped>\n",
       "    .dataframe tbody tr th:only-of-type {\n",
       "        vertical-align: middle;\n",
       "    }\n",
       "\n",
       "    .dataframe tbody tr th {\n",
       "        vertical-align: top;\n",
       "    }\n",
       "\n",
       "    .dataframe thead th {\n",
       "        text-align: right;\n",
       "    }\n",
       "</style>\n",
       "<table border=\"1\" class=\"dataframe\">\n",
       "  <thead>\n",
       "    <tr style=\"text-align: right;\">\n",
       "      <th></th>\n",
       "      <th>Movie Title</th>\n",
       "      <th>Year</th>\n",
       "      <th>Score</th>\n",
       "      <th>Director</th>\n",
       "      <th>Cast</th>\n",
       "      <th>Critics Consensus</th>\n",
       "    </tr>\n",
       "    <tr>\n",
       "      <th>Rank</th>\n",
       "      <th></th>\n",
       "      <th></th>\n",
       "      <th></th>\n",
       "      <th></th>\n",
       "      <th></th>\n",
       "      <th></th>\n",
       "    </tr>\n",
       "  </thead>\n",
       "  <tbody>\n",
       "    <tr>\n",
       "      <th>1</th>\n",
       "      <td>His House</td>\n",
       "      <td>2020</td>\n",
       "      <td>100</td>\n",
       "      <td>Remi Weekes</td>\n",
       "      <td>Wunmi Mosaku, Sope Dirisu, Matt Smith, Cornell...</td>\n",
       "      <td>Featuring genuine scares through every corrido...</td>\n",
       "    </tr>\n",
       "    <tr>\n",
       "      <th>2</th>\n",
       "      <td>How to Train Your Dragon</td>\n",
       "      <td>2010</td>\n",
       "      <td>99</td>\n",
       "      <td>Christopher Sanders</td>\n",
       "      <td>Jay Baruchel, Gerard Butler, America Ferrera, ...</td>\n",
       "      <td>Boasting dazzling animation, a script with sur...</td>\n",
       "    </tr>\n",
       "    <tr>\n",
       "      <th>3</th>\n",
       "      <td>The Forty-Year-Old Version</td>\n",
       "      <td>2020</td>\n",
       "      <td>99</td>\n",
       "      <td>Radha Blank</td>\n",
       "      <td>Welker White, Reed Birney, Radha Blank, Peter Kim</td>\n",
       "      <td>The Forty-Year-Old Version opens a compelling ...</td>\n",
       "    </tr>\n",
       "    <tr>\n",
       "      <th>4</th>\n",
       "      <td>Under the Shadow</td>\n",
       "      <td>2016</td>\n",
       "      <td>99</td>\n",
       "      <td>Babak Anvari</td>\n",
       "      <td>Narges Rashidi, Avin Manshadi, Bobby Naderi, R...</td>\n",
       "      <td>Under the Shadow deftly blends seemingly dispa...</td>\n",
       "    </tr>\n",
       "    <tr>\n",
       "      <th>5</th>\n",
       "      <td>Monty Python and the Holy Grail</td>\n",
       "      <td>1975</td>\n",
       "      <td>98</td>\n",
       "      <td>Terry Gilliam</td>\n",
       "      <td>Graham Chapman, John Cleese, Terry Gilliam, Er...</td>\n",
       "      <td>A cult classic as gut-bustingly hilarious as i...</td>\n",
       "    </tr>\n",
       "  </tbody>\n",
       "</table>\n",
       "</div>"
      ],
      "text/plain": [
       "                          Movie Title  Year  Score             Director  \\\n",
       "Rank                                                                      \n",
       "1                           His House  2020    100          Remi Weekes   \n",
       "2            How to Train Your Dragon  2010     99  Christopher Sanders   \n",
       "3          The Forty-Year-Old Version  2020     99          Radha Blank   \n",
       "4                    Under the Shadow  2016     99         Babak Anvari   \n",
       "5     Monty Python and the Holy Grail  1975     98        Terry Gilliam   \n",
       "\n",
       "                                                   Cast  \\\n",
       "Rank                                                      \n",
       "1     Wunmi Mosaku, Sope Dirisu, Matt Smith, Cornell...   \n",
       "2     Jay Baruchel, Gerard Butler, America Ferrera, ...   \n",
       "3     Welker White, Reed Birney, Radha Blank, Peter Kim   \n",
       "4     Narges Rashidi, Avin Manshadi, Bobby Naderi, R...   \n",
       "5     Graham Chapman, John Cleese, Terry Gilliam, Er...   \n",
       "\n",
       "                                      Critics Consensus  \n",
       "Rank                                                     \n",
       "1     Featuring genuine scares through every corrido...  \n",
       "2     Boasting dazzling animation, a script with sur...  \n",
       "3     The Forty-Year-Old Version opens a compelling ...  \n",
       "4     Under the Shadow deftly blends seemingly dispa...  \n",
       "5     A cult classic as gut-bustingly hilarious as i...  "
      ]
     },
     "execution_count": 2,
     "metadata": {},
     "output_type": "execute_result"
    }
   ],
   "source": [
    "df = pd.read_csv(\"100 Best Movies on Netflix.csv\", index_col=\"Rank\")\n",
    "df.head()"
   ]
  },
  {
   "cell_type": "code",
   "execution_count": 3,
   "id": "00ea8913",
   "metadata": {},
   "outputs": [
    {
     "data": {
      "text/html": [
       "<div>\n",
       "<style scoped>\n",
       "    .dataframe tbody tr th:only-of-type {\n",
       "        vertical-align: middle;\n",
       "    }\n",
       "\n",
       "    .dataframe tbody tr th {\n",
       "        vertical-align: top;\n",
       "    }\n",
       "\n",
       "    .dataframe thead th {\n",
       "        text-align: right;\n",
       "    }\n",
       "</style>\n",
       "<table border=\"1\" class=\"dataframe\">\n",
       "  <thead>\n",
       "    <tr style=\"text-align: right;\">\n",
       "      <th></th>\n",
       "      <th>Movie Title</th>\n",
       "      <th>Year</th>\n",
       "      <th>Score</th>\n",
       "      <th>Director</th>\n",
       "      <th>Cast</th>\n",
       "      <th>Critics Consensus</th>\n",
       "    </tr>\n",
       "    <tr>\n",
       "      <th>Rank</th>\n",
       "      <th></th>\n",
       "      <th></th>\n",
       "      <th></th>\n",
       "      <th></th>\n",
       "      <th></th>\n",
       "      <th></th>\n",
       "    </tr>\n",
       "  </thead>\n",
       "  <tbody>\n",
       "    <tr>\n",
       "      <th>96</th>\n",
       "      <td>Fear Street Part Three: 1666</td>\n",
       "      <td>2021</td>\n",
       "      <td>88</td>\n",
       "      <td>Leigh Janiak</td>\n",
       "      <td>Kiana Madeira, Ashley Zukerman, Gillian Jacobs...</td>\n",
       "      <td>Fear Street Part Three: 1666 sends the slasher...</td>\n",
       "    </tr>\n",
       "    <tr>\n",
       "      <th>97</th>\n",
       "      <td>Donnie Brasco</td>\n",
       "      <td>1997</td>\n",
       "      <td>88</td>\n",
       "      <td>Mike Newell</td>\n",
       "      <td>Al Pacino, Johnny Depp, Michael Madsen, Bruno ...</td>\n",
       "      <td>A stark, nuanced portrait of life in organized...</td>\n",
       "    </tr>\n",
       "    <tr>\n",
       "      <th>98</th>\n",
       "      <td>Inception</td>\n",
       "      <td>2010</td>\n",
       "      <td>87</td>\n",
       "      <td>Christopher Nolan</td>\n",
       "      <td>Leonardo DiCaprio, Joseph Gordon-Levitt, Ellio...</td>\n",
       "      <td>Smart, innovative, and thrilling, Inception is...</td>\n",
       "    </tr>\n",
       "    <tr>\n",
       "      <th>99</th>\n",
       "      <td>American Beauty</td>\n",
       "      <td>1999</td>\n",
       "      <td>87</td>\n",
       "      <td>Sam Mendes</td>\n",
       "      <td>Kevin Spacey, Annette Bening, Thora Birch, Wes...</td>\n",
       "      <td>Flawlessly cast and brimming with dark, acid w...</td>\n",
       "    </tr>\n",
       "    <tr>\n",
       "      <th>100</th>\n",
       "      <td>Kung Fu Panda</td>\n",
       "      <td>2008</td>\n",
       "      <td>87</td>\n",
       "      <td>John Stevenson</td>\n",
       "      <td>Jack Black, Angelina Jolie, Jackie Chan, David...</td>\n",
       "      <td>Kung Fu Panda has a familiar message, but the ...</td>\n",
       "    </tr>\n",
       "  </tbody>\n",
       "</table>\n",
       "</div>"
      ],
      "text/plain": [
       "                       Movie Title  Year  Score           Director  \\\n",
       "Rank                                                                 \n",
       "96    Fear Street Part Three: 1666  2021     88       Leigh Janiak   \n",
       "97                   Donnie Brasco  1997     88        Mike Newell   \n",
       "98                       Inception  2010     87  Christopher Nolan   \n",
       "99                 American Beauty  1999     87         Sam Mendes   \n",
       "100                  Kung Fu Panda  2008     87     John Stevenson   \n",
       "\n",
       "                                                   Cast  \\\n",
       "Rank                                                      \n",
       "96    Kiana Madeira, Ashley Zukerman, Gillian Jacobs...   \n",
       "97    Al Pacino, Johnny Depp, Michael Madsen, Bruno ...   \n",
       "98    Leonardo DiCaprio, Joseph Gordon-Levitt, Ellio...   \n",
       "99    Kevin Spacey, Annette Bening, Thora Birch, Wes...   \n",
       "100   Jack Black, Angelina Jolie, Jackie Chan, David...   \n",
       "\n",
       "                                      Critics Consensus  \n",
       "Rank                                                     \n",
       "96    Fear Street Part Three: 1666 sends the slasher...  \n",
       "97    A stark, nuanced portrait of life in organized...  \n",
       "98    Smart, innovative, and thrilling, Inception is...  \n",
       "99    Flawlessly cast and brimming with dark, acid w...  \n",
       "100   Kung Fu Panda has a familiar message, but the ...  "
      ]
     },
     "execution_count": 3,
     "metadata": {},
     "output_type": "execute_result"
    }
   ],
   "source": [
    "df.tail()"
   ]
  },
  {
   "cell_type": "markdown",
   "id": "b9395418",
   "metadata": {},
   "source": [
    "This dataset provides information on the 100 best movies available on Netflix up to 2023. The data was collected by manually reviewing Netflix's movie library and selecting the movies based on their popularity, critical acclaim, and user ratings. The dataset contains the following information for each movie:\n",
    "\n",
    "* **Rank:** The rank of the movie (for indexing);\n",
    "* **Title:** The name of the movie;\n",
    "* **Year:** The year the movie was released;\n",
    "* **Score:** Score given by Rotten Tomatoes;\n",
    "* **Director:** The name of the movie's director;\n",
    "* **Cast:** The name of the movie's cast;\n",
    "* **Critics Consensus:** What the critics are saying about the new movie."
   ]
  },
  {
   "cell_type": "markdown",
   "id": "d7768b98",
   "metadata": {},
   "source": [
    "Check data types of each column."
   ]
  },
  {
   "cell_type": "code",
   "execution_count": 4,
   "id": "80045751",
   "metadata": {},
   "outputs": [
    {
     "data": {
      "text/plain": [
       "Movie Title          object\n",
       "Year                  int64\n",
       "Score                 int64\n",
       "Director             object\n",
       "Cast                 object\n",
       "Critics Consensus    object\n",
       "dtype: object"
      ]
     },
     "execution_count": 4,
     "metadata": {},
     "output_type": "execute_result"
    }
   ],
   "source": [
    "df.dtypes"
   ]
  },
  {
   "cell_type": "markdown",
   "id": "241f62cc",
   "metadata": {},
   "source": [
    "* All types are as required. Year can stay as int64 because it does not have month and day."
   ]
  },
  {
   "cell_type": "markdown",
   "id": "bfab7816",
   "metadata": {},
   "source": [
    "## Data cleaning <a class=\"anchor\" id=\"datacleaning\"></a>"
   ]
  },
  {
   "cell_type": "markdown",
   "id": "8bf3a578",
   "metadata": {},
   "source": [
    "Check for missing data."
   ]
  },
  {
   "cell_type": "code",
   "execution_count": 5,
   "id": "ae442e30",
   "metadata": {},
   "outputs": [
    {
     "data": {
      "text/plain": [
       "Movie Title          0\n",
       "Year                 0\n",
       "Score                0\n",
       "Director             0\n",
       "Cast                 0\n",
       "Critics Consensus    0\n",
       "dtype: int64"
      ]
     },
     "execution_count": 5,
     "metadata": {},
     "output_type": "execute_result"
    }
   ],
   "source": [
    "df.isnull().sum()"
   ]
  },
  {
   "cell_type": "markdown",
   "id": "43eaf0c5",
   "metadata": {},
   "source": [
    "* No missing values were found."
   ]
  },
  {
   "cell_type": "markdown",
   "id": "0b2c9e4b",
   "metadata": {},
   "source": [
    "Check for duplicate values."
   ]
  },
  {
   "cell_type": "code",
   "execution_count": 6,
   "id": "7e4df04a",
   "metadata": {},
   "outputs": [
    {
     "data": {
      "text/plain": [
       "0"
      ]
     },
     "execution_count": 6,
     "metadata": {},
     "output_type": "execute_result"
    }
   ],
   "source": [
    "df.duplicated().sum()"
   ]
  },
  {
   "cell_type": "markdown",
   "id": "00e592be",
   "metadata": {},
   "source": [
    "* No duplicated values were found."
   ]
  },
  {
   "cell_type": "markdown",
   "id": "5431deb6",
   "metadata": {},
   "source": [
    "Check whether there are unusual values in numeric columns."
   ]
  },
  {
   "cell_type": "code",
   "execution_count": 7,
   "id": "d6827a7b",
   "metadata": {},
   "outputs": [
    {
     "data": {
      "text/html": [
       "<div>\n",
       "<style scoped>\n",
       "    .dataframe tbody tr th:only-of-type {\n",
       "        vertical-align: middle;\n",
       "    }\n",
       "\n",
       "    .dataframe tbody tr th {\n",
       "        vertical-align: top;\n",
       "    }\n",
       "\n",
       "    .dataframe thead th {\n",
       "        text-align: right;\n",
       "    }\n",
       "</style>\n",
       "<table border=\"1\" class=\"dataframe\">\n",
       "  <thead>\n",
       "    <tr style=\"text-align: right;\">\n",
       "      <th></th>\n",
       "      <th>Year</th>\n",
       "      <th>Score</th>\n",
       "    </tr>\n",
       "  </thead>\n",
       "  <tbody>\n",
       "    <tr>\n",
       "      <th>min</th>\n",
       "      <td>1960.0</td>\n",
       "      <td>87.0</td>\n",
       "    </tr>\n",
       "    <tr>\n",
       "      <th>max</th>\n",
       "      <td>2022.0</td>\n",
       "      <td>100.0</td>\n",
       "    </tr>\n",
       "  </tbody>\n",
       "</table>\n",
       "</div>"
      ],
      "text/plain": [
       "       Year  Score\n",
       "min  1960.0   87.0\n",
       "max  2022.0  100.0"
      ]
     },
     "execution_count": 7,
     "metadata": {},
     "output_type": "execute_result"
    }
   ],
   "source": [
    "df.describe().loc[[\"min\", \"max\"]]"
   ]
  },
  {
   "cell_type": "markdown",
   "id": "8d3f05c8",
   "metadata": {},
   "source": [
    "* All the numeric columns seem to be in the required range."
   ]
  },
  {
   "cell_type": "markdown",
   "id": "dcb4e2a6",
   "metadata": {},
   "source": [
    "Check for outliers of numeric columns."
   ]
  },
  {
   "cell_type": "code",
   "execution_count": 8,
   "id": "05419642",
   "metadata": {},
   "outputs": [
    {
     "data": {
      "image/png": "[encoded data removed]",
      "text/plain": [
       "<Figure size 640x480 with 2 Axes>"
      ]
     },
     "metadata": {},
     "output_type": "display_data"
    }
   ],
   "source": [
    "df.hist(grid=False);"
   ]
  },
  {
   "cell_type": "markdown",
   "id": "ffad4c2a",
   "metadata": {},
   "source": [
    "* Year 1960 or score 100 might be seen as the outliers, however, they are only due to a natural variation, therefore, they will be kept in the further analysis."
   ]
  },
  {
   "cell_type": "markdown",
   "id": "c645c2d4",
   "metadata": {},
   "source": [
    "## Exploratory data analysis <a class=\"anchor\" id=\"eda\"></a>"
   ]
  },
  {
   "cell_type": "markdown",
   "id": "95c14b95",
   "metadata": {},
   "source": [
    "### What is the shape of the dataframe?"
   ]
  },
  {
   "cell_type": "code",
   "execution_count": 9,
   "id": "98645f2e",
   "metadata": {},
   "outputs": [
    {
     "name": "stdout",
     "output_type": "stream",
     "text": [
      "Dataset has 100 rows (observations) and 6 columns (features).\n"
     ]
    }
   ],
   "source": [
    "print(f\"Dataset has {df.shape[0]} rows (observations) and {df.shape[1]} columns (features).\")"
   ]
  },
  {
   "cell_type": "markdown",
   "id": "b0735dbb",
   "metadata": {},
   "source": [
    "### What are the top 3 movies?"
   ]
  },
  {
   "cell_type": "code",
   "execution_count": 10,
   "id": "68791581",
   "metadata": {},
   "outputs": [
    {
     "data": {
      "text/html": [
       "<div>\n",
       "<style scoped>\n",
       "    .dataframe tbody tr th:only-of-type {\n",
       "        vertical-align: middle;\n",
       "    }\n",
       "\n",
       "    .dataframe tbody tr th {\n",
       "        vertical-align: top;\n",
       "    }\n",
       "\n",
       "    .dataframe thead th {\n",
       "        text-align: right;\n",
       "    }\n",
       "</style>\n",
       "<table border=\"1\" class=\"dataframe\">\n",
       "  <thead>\n",
       "    <tr style=\"text-align: right;\">\n",
       "      <th></th>\n",
       "      <th>Movie Title</th>\n",
       "      <th>Year</th>\n",
       "      <th>Score</th>\n",
       "      <th>Director</th>\n",
       "      <th>Cast</th>\n",
       "      <th>Critics Consensus</th>\n",
       "    </tr>\n",
       "    <tr>\n",
       "      <th>Rank</th>\n",
       "      <th></th>\n",
       "      <th></th>\n",
       "      <th></th>\n",
       "      <th></th>\n",
       "      <th></th>\n",
       "      <th></th>\n",
       "    </tr>\n",
       "  </thead>\n",
       "  <tbody>\n",
       "    <tr>\n",
       "      <th>1</th>\n",
       "      <td>His House</td>\n",
       "      <td>2020</td>\n",
       "      <td>100</td>\n",
       "      <td>Remi Weekes</td>\n",
       "      <td>Wunmi Mosaku, Sope Dirisu, Matt Smith, Cornell...</td>\n",
       "      <td>Featuring genuine scares through every corrido...</td>\n",
       "    </tr>\n",
       "    <tr>\n",
       "      <th>2</th>\n",
       "      <td>How to Train Your Dragon</td>\n",
       "      <td>2010</td>\n",
       "      <td>99</td>\n",
       "      <td>Christopher Sanders</td>\n",
       "      <td>Jay Baruchel, Gerard Butler, America Ferrera, ...</td>\n",
       "      <td>Boasting dazzling animation, a script with sur...</td>\n",
       "    </tr>\n",
       "    <tr>\n",
       "      <th>3</th>\n",
       "      <td>The Forty-Year-Old Version</td>\n",
       "      <td>2020</td>\n",
       "      <td>99</td>\n",
       "      <td>Radha Blank</td>\n",
       "      <td>Welker White, Reed Birney, Radha Blank, Peter Kim</td>\n",
       "      <td>The Forty-Year-Old Version opens a compelling ...</td>\n",
       "    </tr>\n",
       "  </tbody>\n",
       "</table>\n",
       "</div>"
      ],
      "text/plain": [
       "                     Movie Title  Year  Score             Director  \\\n",
       "Rank                                                                 \n",
       "1                      His House  2020    100          Remi Weekes   \n",
       "2       How to Train Your Dragon  2010     99  Christopher Sanders   \n",
       "3     The Forty-Year-Old Version  2020     99          Radha Blank   \n",
       "\n",
       "                                                   Cast  \\\n",
       "Rank                                                      \n",
       "1     Wunmi Mosaku, Sope Dirisu, Matt Smith, Cornell...   \n",
       "2     Jay Baruchel, Gerard Butler, America Ferrera, ...   \n",
       "3     Welker White, Reed Birney, Radha Blank, Peter Kim   \n",
       "\n",
       "                                      Critics Consensus  \n",
       "Rank                                                     \n",
       "1     Featuring genuine scares through every corrido...  \n",
       "2     Boasting dazzling animation, a script with sur...  \n",
       "3     The Forty-Year-Old Version opens a compelling ...  "
      ]
     },
     "execution_count": 10,
     "metadata": {},
     "output_type": "execute_result"
    }
   ],
   "source": [
    "df.nlargest(3, \"Score\")"
   ]
  },
  {
   "cell_type": "markdown",
   "id": "0fc9f651",
   "metadata": {},
   "source": [
    "### What are the bottom 3 movies?"
   ]
  },
  {
   "cell_type": "code",
   "execution_count": 11,
   "id": "6cb5ac3e",
   "metadata": {},
   "outputs": [
    {
     "data": {
      "text/html": [
       "<div>\n",
       "<style scoped>\n",
       "    .dataframe tbody tr th:only-of-type {\n",
       "        vertical-align: middle;\n",
       "    }\n",
       "\n",
       "    .dataframe tbody tr th {\n",
       "        vertical-align: top;\n",
       "    }\n",
       "\n",
       "    .dataframe thead th {\n",
       "        text-align: right;\n",
       "    }\n",
       "</style>\n",
       "<table border=\"1\" class=\"dataframe\">\n",
       "  <thead>\n",
       "    <tr style=\"text-align: right;\">\n",
       "      <th></th>\n",
       "      <th>Movie Title</th>\n",
       "      <th>Year</th>\n",
       "      <th>Score</th>\n",
       "      <th>Director</th>\n",
       "      <th>Cast</th>\n",
       "      <th>Critics Consensus</th>\n",
       "    </tr>\n",
       "    <tr>\n",
       "      <th>Rank</th>\n",
       "      <th></th>\n",
       "      <th></th>\n",
       "      <th></th>\n",
       "      <th></th>\n",
       "      <th></th>\n",
       "      <th></th>\n",
       "    </tr>\n",
       "  </thead>\n",
       "  <tbody>\n",
       "    <tr>\n",
       "      <th>100</th>\n",
       "      <td>Kung Fu Panda</td>\n",
       "      <td>2008</td>\n",
       "      <td>87</td>\n",
       "      <td>John Stevenson</td>\n",
       "      <td>Jack Black, Angelina Jolie, Jackie Chan, David...</td>\n",
       "      <td>Kung Fu Panda has a familiar message, but the ...</td>\n",
       "    </tr>\n",
       "    <tr>\n",
       "      <th>99</th>\n",
       "      <td>American Beauty</td>\n",
       "      <td>1999</td>\n",
       "      <td>87</td>\n",
       "      <td>Sam Mendes</td>\n",
       "      <td>Kevin Spacey, Annette Bening, Thora Birch, Wes...</td>\n",
       "      <td>Flawlessly cast and brimming with dark, acid w...</td>\n",
       "    </tr>\n",
       "    <tr>\n",
       "      <th>98</th>\n",
       "      <td>Inception</td>\n",
       "      <td>2010</td>\n",
       "      <td>87</td>\n",
       "      <td>Christopher Nolan</td>\n",
       "      <td>Leonardo DiCaprio, Joseph Gordon-Levitt, Ellio...</td>\n",
       "      <td>Smart, innovative, and thrilling, Inception is...</td>\n",
       "    </tr>\n",
       "  </tbody>\n",
       "</table>\n",
       "</div>"
      ],
      "text/plain": [
       "          Movie Title  Year  Score           Director  \\\n",
       "Rank                                                    \n",
       "100     Kung Fu Panda  2008     87     John Stevenson   \n",
       "99    American Beauty  1999     87         Sam Mendes   \n",
       "98          Inception  2010     87  Christopher Nolan   \n",
       "\n",
       "                                                   Cast  \\\n",
       "Rank                                                      \n",
       "100   Jack Black, Angelina Jolie, Jackie Chan, David...   \n",
       "99    Kevin Spacey, Annette Bening, Thora Birch, Wes...   \n",
       "98    Leonardo DiCaprio, Joseph Gordon-Levitt, Ellio...   \n",
       "\n",
       "                                      Critics Consensus  \n",
       "Rank                                                     \n",
       "100   Kung Fu Panda has a familiar message, but the ...  \n",
       "99    Flawlessly cast and brimming with dark, acid w...  \n",
       "98    Smart, innovative, and thrilling, Inception is...  "
      ]
     },
     "execution_count": 11,
     "metadata": {},
     "output_type": "execute_result"
    }
   ],
   "source": [
    "df.nsmallest(3, \"Score\").sort_index(ascending=False)"
   ]
  },
  {
   "cell_type": "markdown",
   "id": "1e7ef2a7",
   "metadata": {},
   "source": [
    "### Are there any directors that have more than 1 top movie? How many?"
   ]
  },
  {
   "cell_type": "code",
   "execution_count": 12,
   "id": "5a4a7a71",
   "metadata": {},
   "outputs": [
    {
     "data": {
      "text/html": [
       "<div>\n",
       "<style scoped>\n",
       "    .dataframe tbody tr th:only-of-type {\n",
       "        vertical-align: middle;\n",
       "    }\n",
       "\n",
       "    .dataframe tbody tr th {\n",
       "        vertical-align: top;\n",
       "    }\n",
       "\n",
       "    .dataframe thead th {\n",
       "        text-align: right;\n",
       "    }\n",
       "</style>\n",
       "<table border=\"1\" class=\"dataframe\">\n",
       "  <thead>\n",
       "    <tr style=\"text-align: right;\">\n",
       "      <th></th>\n",
       "      <th>Director</th>\n",
       "      <th>movie_count</th>\n",
       "    </tr>\n",
       "  </thead>\n",
       "  <tbody>\n",
       "    <tr>\n",
       "      <th>0</th>\n",
       "      <td>Peter Jackson</td>\n",
       "      <td>3</td>\n",
       "    </tr>\n",
       "    <tr>\n",
       "      <th>1</th>\n",
       "      <td>Alfred Hitchcock</td>\n",
       "      <td>2</td>\n",
       "    </tr>\n",
       "    <tr>\n",
       "      <th>2</th>\n",
       "      <td>Jeremiah Zagar</td>\n",
       "      <td>2</td>\n",
       "    </tr>\n",
       "    <tr>\n",
       "      <th>3</th>\n",
       "      <td>Kathryn Bigelow</td>\n",
       "      <td>2</td>\n",
       "    </tr>\n",
       "    <tr>\n",
       "      <th>4</th>\n",
       "      <td>Mike Flanagan</td>\n",
       "      <td>2</td>\n",
       "    </tr>\n",
       "    <tr>\n",
       "      <th>5</th>\n",
       "      <td>Noah Baumbach</td>\n",
       "      <td>2</td>\n",
       "    </tr>\n",
       "    <tr>\n",
       "      <th>6</th>\n",
       "      <td>Paul Greengrass</td>\n",
       "      <td>2</td>\n",
       "    </tr>\n",
       "    <tr>\n",
       "      <th>7</th>\n",
       "      <td>Sam Mendes</td>\n",
       "      <td>2</td>\n",
       "    </tr>\n",
       "    <tr>\n",
       "      <th>8</th>\n",
       "      <td>Sam Raimi</td>\n",
       "      <td>2</td>\n",
       "    </tr>\n",
       "  </tbody>\n",
       "</table>\n",
       "</div>"
      ],
      "text/plain": [
       "           Director  movie_count\n",
       "0     Peter Jackson            3\n",
       "1  Alfred Hitchcock            2\n",
       "2    Jeremiah Zagar            2\n",
       "3   Kathryn Bigelow            2\n",
       "4     Mike Flanagan            2\n",
       "5     Noah Baumbach            2\n",
       "6   Paul Greengrass            2\n",
       "7        Sam Mendes            2\n",
       "8         Sam Raimi            2"
      ]
     },
     "execution_count": 12,
     "metadata": {},
     "output_type": "execute_result"
    }
   ],
   "source": [
    "# Count how many movies each director has\n",
    "mov_count = df.groupby([\"Director\"]).agg(\n",
    "    movie_count=pd.NamedAgg(column=\"Director\", aggfunc=\"count\")\n",
    ")\n",
    "\n",
    "# Filter only directors that have more than one movie\n",
    "mov_count[mov_count[\"movie_count\"] > 1].sort_values(\n",
    "    by=\"movie_count\", ascending=False).reset_index()"
   ]
  },
  {
   "cell_type": "markdown",
   "id": "949d3d17",
   "metadata": {},
   "source": [
    "8 directors have 2 movies and 1 director has 3 movies."
   ]
  },
  {
   "cell_type": "markdown",
   "id": "e08fa257",
   "metadata": {},
   "source": [
    "### What is the most often director?"
   ]
  },
  {
   "cell_type": "code",
   "execution_count": 13,
   "id": "d8c9c5d8",
   "metadata": {},
   "outputs": [
    {
     "data": {
      "text/plain": [
       "['Peter Jackson']"
      ]
     },
     "execution_count": 13,
     "metadata": {},
     "output_type": "execute_result"
    }
   ],
   "source": [
    "dir_filter = df[\"Director\"].mode().to_list()\n",
    "dir_filter"
   ]
  },
  {
   "cell_type": "markdown",
   "id": "04931e92",
   "metadata": {},
   "source": [
    "### What are the movies of the most often director?"
   ]
  },
  {
   "cell_type": "code",
   "execution_count": 14,
   "id": "9ab6211a",
   "metadata": {},
   "outputs": [
    {
     "data": {
      "text/html": [
       "<div>\n",
       "<style scoped>\n",
       "    .dataframe tbody tr th:only-of-type {\n",
       "        vertical-align: middle;\n",
       "    }\n",
       "\n",
       "    .dataframe tbody tr th {\n",
       "        vertical-align: top;\n",
       "    }\n",
       "\n",
       "    .dataframe thead th {\n",
       "        text-align: right;\n",
       "    }\n",
       "</style>\n",
       "<table border=\"1\" class=\"dataframe\">\n",
       "  <thead>\n",
       "    <tr style=\"text-align: right;\">\n",
       "      <th></th>\n",
       "      <th>Movie Title</th>\n",
       "      <th>Year</th>\n",
       "      <th>Score</th>\n",
       "      <th>Director</th>\n",
       "      <th>Cast</th>\n",
       "      <th>Critics Consensus</th>\n",
       "    </tr>\n",
       "    <tr>\n",
       "      <th>Rank</th>\n",
       "      <th></th>\n",
       "      <th></th>\n",
       "      <th></th>\n",
       "      <th></th>\n",
       "      <th></th>\n",
       "      <th></th>\n",
       "    </tr>\n",
       "  </thead>\n",
       "  <tbody>\n",
       "    <tr>\n",
       "      <th>24</th>\n",
       "      <td>The Lord of the Rings: The Two Towers</td>\n",
       "      <td>2002</td>\n",
       "      <td>95</td>\n",
       "      <td>Peter Jackson</td>\n",
       "      <td>Elijah Wood, Ian McKellen, Liv Tyler, Viggo Mo...</td>\n",
       "      <td>The Two Towers balances spectacular action wit...</td>\n",
       "    </tr>\n",
       "    <tr>\n",
       "      <th>38</th>\n",
       "      <td>The Lord of the Rings: The Return of the King</td>\n",
       "      <td>2003</td>\n",
       "      <td>93</td>\n",
       "      <td>Peter Jackson</td>\n",
       "      <td>Elijah Wood, Ian McKellen, Liv Tyler, Viggo Mo...</td>\n",
       "      <td>Visually breathtaking and emotionally powerful...</td>\n",
       "    </tr>\n",
       "    <tr>\n",
       "      <th>63</th>\n",
       "      <td>The Lord of the Rings: The Fellowship of the Ring</td>\n",
       "      <td>2001</td>\n",
       "      <td>91</td>\n",
       "      <td>Peter Jackson</td>\n",
       "      <td>Elijah Wood, Ian McKellen, Liv Tyler, Viggo Mo...</td>\n",
       "      <td>Full of eye-popping special effects, and featu...</td>\n",
       "    </tr>\n",
       "  </tbody>\n",
       "</table>\n",
       "</div>"
      ],
      "text/plain": [
       "                                            Movie Title  Year  Score  \\\n",
       "Rank                                                                   \n",
       "24                The Lord of the Rings: The Two Towers  2002     95   \n",
       "38        The Lord of the Rings: The Return of the King  2003     93   \n",
       "63    The Lord of the Rings: The Fellowship of the Ring  2001     91   \n",
       "\n",
       "           Director                                               Cast  \\\n",
       "Rank                                                                     \n",
       "24    Peter Jackson  Elijah Wood, Ian McKellen, Liv Tyler, Viggo Mo...   \n",
       "38    Peter Jackson  Elijah Wood, Ian McKellen, Liv Tyler, Viggo Mo...   \n",
       "63    Peter Jackson  Elijah Wood, Ian McKellen, Liv Tyler, Viggo Mo...   \n",
       "\n",
       "                                      Critics Consensus  \n",
       "Rank                                                     \n",
       "24    The Two Towers balances spectacular action wit...  \n",
       "38    Visually breathtaking and emotionally powerful...  \n",
       "63    Full of eye-popping special effects, and featu...  "
      ]
     },
     "execution_count": 14,
     "metadata": {},
     "output_type": "execute_result"
    }
   ],
   "source": [
    "df.loc[df[\"Director\"].isin(dir_filter)]"
   ]
  },
  {
   "cell_type": "markdown",
   "id": "6235f816",
   "metadata": {},
   "source": [
    "### How many directors in total have their movies in top 100?"
   ]
  },
  {
   "cell_type": "code",
   "execution_count": 15,
   "id": "8c92ee34",
   "metadata": {},
   "outputs": [
    {
     "data": {
      "text/plain": [
       "90"
      ]
     },
     "execution_count": 15,
     "metadata": {},
     "output_type": "execute_result"
    }
   ],
   "source": [
    "df[\"Director\"].nunique()"
   ]
  },
  {
   "cell_type": "markdown",
   "id": "e6740fc7",
   "metadata": {},
   "source": [
    "### What is the distribution of movies over the years?"
   ]
  },
  {
   "cell_type": "code",
   "execution_count": 16,
   "id": "dd4c19c3",
   "metadata": {},
   "outputs": [
    {
     "data": {
      "image/png": "[encoded data removed]",
      "text/plain": [
       "<Figure size 640x480 with 1 Axes>"
      ]
     },
     "metadata": {},
     "output_type": "display_data"
    }
   ],
   "source": [
    "plt.figure()\n",
    "plt.title(\"Ditribution of movies over the years\")\n",
    "\n",
    "sns.violinplot(data=df, cut=0, x=\"Year\");"
   ]
  },
  {
   "cell_type": "markdown",
   "id": "5a78196b",
   "metadata": {},
   "source": [
    "* Distribution is not normal, it is highly skewed to the left.\n",
    "* Most of the top Netflix movies were made after 2010. One reason for that can be that Netflix is probably more popular between younger people which in turn makes current movies more watchable."
   ]
  },
  {
   "cell_type": "markdown",
   "id": "b9291f50",
   "metadata": {},
   "source": [
    "### Which year is the most often?"
   ]
  },
  {
   "cell_type": "code",
   "execution_count": 17,
   "id": "19dae6c2",
   "metadata": {},
   "outputs": [
    {
     "data": {
      "text/plain": [
       "[2019]"
      ]
     },
     "execution_count": 17,
     "metadata": {},
     "output_type": "execute_result"
    }
   ],
   "source": [
    "df[\"Year\"].mode().to_list()"
   ]
  },
  {
   "cell_type": "markdown",
   "id": "4b80b6be",
   "metadata": {},
   "source": [
    "### Does score increase with year?"
   ]
  },
  {
   "cell_type": "code",
   "execution_count": 18,
   "id": "ddcdf43c",
   "metadata": {},
   "outputs": [
    {
     "data": {
      "image/png": "[encoded data removed]",
      "text/plain": [
       "<Figure size 640x480 with 1 Axes>"
      ]
     },
     "metadata": {},
     "output_type": "display_data"
    }
   ],
   "source": [
    "plt.figure()\n",
    "plt.title(\"Relationship between year and score\")\n",
    "\n",
    "sns.regplot(\n",
    "    data=df, x=\"Year\", y=\"Score\", ci=None, scatter_kws={\"color\": \"purple\", \"alpha\": 0.3}\n",
    ");"
   ]
  },
  {
   "cell_type": "markdown",
   "id": "32d7c110",
   "metadata": {},
   "source": [
    "* Score does not increase with the year. It seems that regression line slightly negative. Let's check that."
   ]
  },
  {
   "cell_type": "code",
   "execution_count": 19,
   "id": "06c2b4bb",
   "metadata": {},
   "outputs": [
    {
     "data": {
      "text/html": [
       "<div>\n",
       "<style scoped>\n",
       "    .dataframe tbody tr th:only-of-type {\n",
       "        vertical-align: middle;\n",
       "    }\n",
       "\n",
       "    .dataframe tbody tr th {\n",
       "        vertical-align: top;\n",
       "    }\n",
       "\n",
       "    .dataframe thead th {\n",
       "        text-align: right;\n",
       "    }\n",
       "</style>\n",
       "<table border=\"1\" class=\"dataframe\">\n",
       "  <thead>\n",
       "    <tr style=\"text-align: right;\">\n",
       "      <th></th>\n",
       "      <th>Year</th>\n",
       "      <th>Score</th>\n",
       "    </tr>\n",
       "  </thead>\n",
       "  <tbody>\n",
       "    <tr>\n",
       "      <th>Year</th>\n",
       "      <td>1.000000</td>\n",
       "      <td>-0.015019</td>\n",
       "    </tr>\n",
       "    <tr>\n",
       "      <th>Score</th>\n",
       "      <td>-0.015019</td>\n",
       "      <td>1.000000</td>\n",
       "    </tr>\n",
       "  </tbody>\n",
       "</table>\n",
       "</div>"
      ],
      "text/plain": [
       "           Year     Score\n",
       "Year   1.000000 -0.015019\n",
       "Score -0.015019  1.000000"
      ]
     },
     "execution_count": 19,
     "metadata": {},
     "output_type": "execute_result"
    }
   ],
   "source": [
    "df.corr(numeric_only=True)"
   ]
  },
  {
   "cell_type": "markdown",
   "id": "546f459f",
   "metadata": {},
   "source": [
    "* Indeed, the relationship between year and score is slightly negative. However, correlation is almost 0, so it cannot be concluded that score indeed decreases with the year."
   ]
  },
  {
   "cell_type": "markdown",
   "id": "50268511",
   "metadata": {},
   "source": [
    "### What are the most used words in critics consensus?"
   ]
  },
  {
   "cell_type": "markdown",
   "id": "14f1730a",
   "metadata": {},
   "source": [
    "#### Wordcloud chart"
   ]
  },
  {
   "cell_type": "code",
   "execution_count": 20,
   "id": "576dbef6",
   "metadata": {},
   "outputs": [],
   "source": [
    "# Transform critics consensus column to separate words\n",
    "lst = df[\"Critics Consensus\"].to_list()\n",
    "lst = \" \".join(lst)\n",
    "words_list = re.sub(\"[,.]\", \"\", lst).lower().split()"
   ]
  },
  {
   "cell_type": "code",
   "execution_count": 21,
   "id": "9b1816c0",
   "metadata": {},
   "outputs": [],
   "source": [
    "# Make a set of meaningless words that should not be included into the counting\n",
    "stop_words = set(\n",
    "    \"a, an, and, are, as, at, be, but, by, for, if, its, from, \"\n",
    "    \"--, in, into, is, it, no, not, of, on, or, such, that, the, \"\n",
    "    \"their, then, there, these, they, this, to, was, will, with\"\n",
    "    .split(\", \")\n",
    ")\n",
    "\n",
    "words = [word for word in words_list if word not in stop_words]\n",
    "counted = Counter(words)"
   ]
  },
  {
   "cell_type": "code",
   "execution_count": 22,
   "id": "3b620883",
   "metadata": {},
   "outputs": [
    {
     "data": {
      "image/png": "[encoded data removed]",
      "text/plain": [
       "<Figure size 640x480 with 1 Axes>"
      ]
     },
     "metadata": {},
     "output_type": "display_data"
    }
   ],
   "source": [
    "wordcloud = WordCloud()\n",
    "wordcloud.generate_from_frequencies(frequencies=counted)\n",
    "\n",
    "plt.figure()\n",
    "plt.imshow(wordcloud, interpolation=\"bilinear\")\n",
    "plt.axis(\"off\");"
   ]
  },
  {
   "cell_type": "markdown",
   "id": "3a481d3c",
   "metadata": {},
   "source": [
    "#### Bar chart"
   ]
  },
  {
   "cell_type": "code",
   "execution_count": 23,
   "id": "a0f81245",
   "metadata": {},
   "outputs": [],
   "source": [
    "words_df = (\n",
    "    pd.DataFrame.from_dict(counted, orient=\"index\", columns=[\"word_count\"])\n",
    "    .sort_values(by=\"word_count\", ascending=False)\n",
    "    .reset_index()\n",
    ")\n",
    "\n",
    "words_df = words_df.rename(columns={\"index\": \"word\"})\n",
    "top10_words = words_df.head(10)"
   ]
  },
  {
   "cell_type": "code",
   "execution_count": 24,
   "id": "b7ae5c29",
   "metadata": {
    "scrolled": false
   },
   "outputs": [
    {
     "data": {
      "image/png": "[encoded data removed]",
      "text/plain": [
       "<Figure size 640x480 with 1 Axes>"
      ]
     },
     "metadata": {},
     "output_type": "display_data"
    }
   ],
   "source": [
    "plt.figure()\n",
    "ax = sns.barplot(top10_words, x=\"word_count\", y=\"word\", orient=\"h\", palette=\"coolwarm\")\n",
    "plt.xticks([])\n",
    "\n",
    "# Remove the frame of the chart\n",
    "for spine in plt.gca().spines.values():\n",
    "    spine.set_visible(False)\n",
    "\n",
    "# Label all the columns directly\n",
    "ax.bar_label(ax.containers[0], label_type=\"edge\")\n",
    "\n",
    "plt.title(\"Top 10 words from critics consensus\")\n",
    "plt.xlabel(\"Count of words\")\n",
    "plt.ylabel(\"Word\");"
   ]
  },
  {
   "cell_type": "markdown",
   "id": "cc2a4800",
   "metadata": {},
   "source": [
    "### Who are the most often cast members?"
   ]
  },
  {
   "cell_type": "code",
   "execution_count": 25,
   "id": "2cb21f66",
   "metadata": {},
   "outputs": [],
   "source": [
    "# Transform cast column to separate people\n",
    "lst = df[\"Cast\"].to_list()\n",
    "lst = \" \".join(lst)\n",
    "cast_list = lst.split(\", \")\n",
    "\n",
    "counted = Counter(cast_list)"
   ]
  },
  {
   "cell_type": "code",
   "execution_count": 26,
   "id": "eebe46d7",
   "metadata": {},
   "outputs": [
    {
     "data": {
      "text/html": [
       "<div>\n",
       "<style scoped>\n",
       "    .dataframe tbody tr th:only-of-type {\n",
       "        vertical-align: middle;\n",
       "    }\n",
       "\n",
       "    .dataframe tbody tr th {\n",
       "        vertical-align: top;\n",
       "    }\n",
       "\n",
       "    .dataframe thead th {\n",
       "        text-align: right;\n",
       "    }\n",
       "</style>\n",
       "<table border=\"1\" class=\"dataframe\">\n",
       "  <thead>\n",
       "    <tr style=\"text-align: right;\">\n",
       "      <th></th>\n",
       "      <th>word_count</th>\n",
       "    </tr>\n",
       "  </thead>\n",
       "  <tbody>\n",
       "    <tr>\n",
       "      <th>Kirsten Dunst</th>\n",
       "      <td>3</td>\n",
       "    </tr>\n",
       "    <tr>\n",
       "      <th>Liv Tyler</th>\n",
       "      <td>3</td>\n",
       "    </tr>\n",
       "    <tr>\n",
       "      <th>Ian McKellen</th>\n",
       "      <td>3</td>\n",
       "    </tr>\n",
       "    <tr>\n",
       "      <th>James Franco</th>\n",
       "      <td>2</td>\n",
       "    </tr>\n",
       "    <tr>\n",
       "      <th>Michael Madsen</th>\n",
       "      <td>2</td>\n",
       "    </tr>\n",
       "    <tr>\n",
       "      <th>Jason Clarke</th>\n",
       "      <td>2</td>\n",
       "    </tr>\n",
       "    <tr>\n",
       "      <th>Zazie Beetz</th>\n",
       "      <td>2</td>\n",
       "    </tr>\n",
       "    <tr>\n",
       "      <th>Emma Stone</th>\n",
       "      <td>2</td>\n",
       "    </tr>\n",
       "    <tr>\n",
       "      <th>John Cleese</th>\n",
       "      <td>2</td>\n",
       "    </tr>\n",
       "    <tr>\n",
       "      <th>Terry Gilliam</th>\n",
       "      <td>2</td>\n",
       "    </tr>\n",
       "  </tbody>\n",
       "</table>\n",
       "</div>"
      ],
      "text/plain": [
       "                word_count\n",
       "Kirsten Dunst            3\n",
       "Liv Tyler                3\n",
       "Ian McKellen             3\n",
       "James Franco             2\n",
       "Michael Madsen           2\n",
       "Jason Clarke             2\n",
       "Zazie Beetz              2\n",
       "Emma Stone               2\n",
       "John Cleese              2\n",
       "Terry Gilliam            2"
      ]
     },
     "execution_count": 26,
     "metadata": {},
     "output_type": "execute_result"
    }
   ],
   "source": [
    "cast_df = (\n",
    "    pd.DataFrame.from_dict(counted, orient=\"index\", columns=[\"word_count\"])\n",
    "    .sort_values(by=\"word_count\", ascending=False)\n",
    ")\n",
    "\n",
    "top10_cast = cast_df.head(10)\n",
    "top10_cast"
   ]
  },
  {
   "cell_type": "markdown",
   "id": "ed073092",
   "metadata": {},
   "source": [
    "## Summary <a class=\"anchor\" id=\"summary\"></a>"
   ]
  },
  {
   "cell_type": "markdown",
   "id": "8097db3e",
   "metadata": {},
   "source": [
    "### Short recap of the analysis:\n",
    "- **What is the shape of the dataframe?** Dataset has 100 rows and 6 columns.\n",
    "- **What are the top 3 movies?** \"His House\", \"How to Train Your Dragon\", \"The Forty-Year-Old-Version\".\n",
    "- **What are the bottom 3 movies?** \"Inception\", \"American Beauty\", \"Kung Fu Panda\".\n",
    "- **Are there any directors that have more than 1 top movie? How many?** 9 directors have more than one movie.\n",
    "- **Who is the most often director?** Peter Jackson.\n",
    "- **What are the movies of the most often director?** All three parts of \"The Lord of the Rings\".\n",
    "- **How many directors in total have their movies in top 100?** 90.\n",
    "- **What is the distribution of movies over the years?** Distribution is not normal, it is highly skewed to the left.\n",
    "- **Which year is the most often?** 2019.\n",
    "- **Does score increase with year?** No, it slightly decreases, but the relationship is ambiguous due to small dataset.\n",
    "- **What are the most used words in critics consensus?** Story, performance, cast.\n",
    "- **Who are the most often cast members?** 3 movies with: Kirsten Dunst, Liv Tyler, Ian McKellen."
   ]
  },
  {
   "cell_type": "markdown",
   "id": "d6c5ba2a",
   "metadata": {},
   "source": [
    "### Ideas for analyses with additional datasets:\n",
    "* How many people watched each movie?\n",
    "* What is the age distribution of Netflix watchers?\n",
    "* How viewer's age impact top movies on Netflix?\n",
    "* What is the genre for each of the movie?\n",
    "* Does score and/or watchability increase with some particular genre?\n",
    "* What are the IMDb ratings for each movie?\n",
    "* Do IMDb ratings correlate with the score on Netflix?"
   ]
  }
 ],
 "metadata": {
  "kernelspec": {
   "display_name": "Python 3 (ipykernel)",
   "language": "python",
   "name": "python3"
  },
  "language_info": {
   "codemirror_mode": {
    "name": "ipython",
    "version": 3
   },
   "file_extension": ".py",
   "mimetype": "text/x-python",
   "name": "python",
   "nbconvert_exporter": "python",
   "pygments_lexer": "ipython3",
   "version": "3.11.5"
  }
 },
 "nbformat": 4,
 "nbformat_minor": 5
}
